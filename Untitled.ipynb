{
 "cells": [
  {
   "cell_type": "code",
   "execution_count": 1,
   "id": "7ec9324d-01eb-4e74-8149-d16775f308de",
   "metadata": {},
   "outputs": [],
   "source": [
    "import pandas as pd\n",
    "import numpy as np"
   ]
  },
  {
   "cell_type": "code",
   "execution_count": 57,
   "id": "84b269b2-13d4-4525-a872-9cb5f914d129",
   "metadata": {},
   "outputs": [],
   "source": [
    "data = pd.read_csv('Data/prev_data.csv')\n",
    "df_old= pd.read_csv('Data/data20220406.csv')\n",
    "df_age = pd.read_csv('Data/age.csv')"
   ]
  },
  {
   "cell_type": "code",
   "execution_count": 58,
   "id": "9d859fad-462f-479d-85a0-e3d276873ff2",
   "metadata": {},
   "outputs": [
    {
     "data": {
      "text/html": [
       "<div>\n",
       "<style scoped>\n",
       "    .dataframe tbody tr th:only-of-type {\n",
       "        vertical-align: middle;\n",
       "    }\n",
       "\n",
       "    .dataframe tbody tr th {\n",
       "        vertical-align: top;\n",
       "    }\n",
       "\n",
       "    .dataframe thead th {\n",
       "        text-align: right;\n",
       "    }\n",
       "</style>\n",
       "<table border=\"1\" class=\"dataframe\">\n",
       "  <thead>\n",
       "    <tr style=\"text-align: right;\">\n",
       "      <th></th>\n",
       "      <th>date_at</th>\n",
       "      <th>mois</th>\n",
       "      <th>product_type</th>\n",
       "      <th>category</th>\n",
       "      <th>country</th>\n",
       "      <th>valeur</th>\n",
       "      <th>loss</th>\n",
       "      <th>reimburse</th>\n",
       "    </tr>\n",
       "  </thead>\n",
       "  <tbody>\n",
       "    <tr>\n",
       "      <th>0</th>\n",
       "      <td>2022-03-31 00:00:00</td>\n",
       "      <td>2022-03</td>\n",
       "      <td>Adapter Fan</td>\n",
       "      <td>accessories</td>\n",
       "      <td>Niger</td>\n",
       "      <td>40800.0</td>\n",
       "      <td>0.0</td>\n",
       "      <td>0.0</td>\n",
       "    </tr>\n",
       "    <tr>\n",
       "      <th>1</th>\n",
       "      <td>2022-03-31 00:00:00</td>\n",
       "      <td>2022-03</td>\n",
       "      <td>Adapter Fan</td>\n",
       "      <td>accessories</td>\n",
       "      <td>Nigeria</td>\n",
       "      <td>6800.0</td>\n",
       "      <td>57800.0</td>\n",
       "      <td>3400.0</td>\n",
       "    </tr>\n",
       "    <tr>\n",
       "      <th>2</th>\n",
       "      <td>2022-03-31 00:00:00</td>\n",
       "      <td>2022-03</td>\n",
       "      <td>Burn Stove</td>\n",
       "      <td>accessories</td>\n",
       "      <td>Nigeria</td>\n",
       "      <td>0.0</td>\n",
       "      <td>0.0</td>\n",
       "      <td>31500.0</td>\n",
       "    </tr>\n",
       "    <tr>\n",
       "      <th>3</th>\n",
       "      <td>2022-03-31 00:00:00</td>\n",
       "      <td>2022-03</td>\n",
       "      <td>Burn Stove Xtra</td>\n",
       "      <td>accessories</td>\n",
       "      <td>Nigeria</td>\n",
       "      <td>0.0</td>\n",
       "      <td>0.0</td>\n",
       "      <td>0.0</td>\n",
       "    </tr>\n",
       "    <tr>\n",
       "      <th>4</th>\n",
       "      <td>2022-03-31 00:00:00</td>\n",
       "      <td>2022-03</td>\n",
       "      <td>D Light Radio</td>\n",
       "      <td>accessories</td>\n",
       "      <td>Cameroun</td>\n",
       "      <td>1937166.0</td>\n",
       "      <td>0.0</td>\n",
       "      <td>0.0</td>\n",
       "    </tr>\n",
       "  </tbody>\n",
       "</table>\n",
       "</div>"
      ],
      "text/plain": [
       "               date_at     mois     product_type     category   country  \\\n",
       "0  2022-03-31 00:00:00  2022-03      Adapter Fan  accessories     Niger   \n",
       "1  2022-03-31 00:00:00  2022-03      Adapter Fan  accessories   Nigeria   \n",
       "2  2022-03-31 00:00:00  2022-03       Burn Stove  accessories   Nigeria   \n",
       "3  2022-03-31 00:00:00  2022-03  Burn Stove Xtra  accessories   Nigeria   \n",
       "4  2022-03-31 00:00:00  2022-03    D Light Radio  accessories  Cameroun   \n",
       "\n",
       "      valeur     loss  reimburse  \n",
       "0    40800.0      0.0        0.0  \n",
       "1     6800.0  57800.0     3400.0  \n",
       "2        0.0      0.0    31500.0  \n",
       "3        0.0      0.0        0.0  \n",
       "4  1937166.0      0.0        0.0  "
      ]
     },
     "execution_count": 58,
     "metadata": {},
     "output_type": "execute_result"
    }
   ],
   "source": [
    "data.head()"
   ]
  },
  {
   "cell_type": "code",
   "execution_count": 63,
   "id": "c1fd3a74-cb9a-4250-8b52-18f5ae9e391d",
   "metadata": {},
   "outputs": [
    {
     "data": {
      "text/html": [
       "<div>\n",
       "<style scoped>\n",
       "    .dataframe tbody tr th:only-of-type {\n",
       "        vertical-align: middle;\n",
       "    }\n",
       "\n",
       "    .dataframe tbody tr th {\n",
       "        vertical-align: top;\n",
       "    }\n",
       "\n",
       "    .dataframe thead th {\n",
       "        text-align: right;\n",
       "    }\n",
       "</style>\n",
       "<table border=\"1\" class=\"dataframe\">\n",
       "  <thead>\n",
       "    <tr style=\"text-align: right;\">\n",
       "      <th></th>\n",
       "      <th>age</th>\n",
       "      <th>bucket</th>\n",
       "      <th>product_id</th>\n",
       "      <th>age-2</th>\n",
       "      <th>recieved_at</th>\n",
       "      <th>type_movement</th>\n",
       "      <th>tenant_id</th>\n",
       "    </tr>\n",
       "  </thead>\n",
       "  <tbody>\n",
       "    <tr>\n",
       "      <th>0</th>\n",
       "      <td>44.933333</td>\n",
       "      <td>&gt; 12 mois</td>\n",
       "      <td>591.0</td>\n",
       "      <td>44.933333</td>\n",
       "      <td>2018-08-01 08:56:56.446872</td>\n",
       "      <td>receiving</td>\n",
       "      <td>2</td>\n",
       "    </tr>\n",
       "    <tr>\n",
       "      <th>1</th>\n",
       "      <td>44.933333</td>\n",
       "      <td>&gt; 12 mois</td>\n",
       "      <td>592.0</td>\n",
       "      <td>44.933333</td>\n",
       "      <td>2018-08-01 08:58:13.364169</td>\n",
       "      <td>receiving</td>\n",
       "      <td>2</td>\n",
       "    </tr>\n",
       "    <tr>\n",
       "      <th>2</th>\n",
       "      <td>44.933333</td>\n",
       "      <td>&gt; 12 mois</td>\n",
       "      <td>593.0</td>\n",
       "      <td>44.933333</td>\n",
       "      <td>2018-08-01 08:59:37.428562</td>\n",
       "      <td>receiving</td>\n",
       "      <td>2</td>\n",
       "    </tr>\n",
       "    <tr>\n",
       "      <th>3</th>\n",
       "      <td>44.933333</td>\n",
       "      <td>&gt; 12 mois</td>\n",
       "      <td>594.0</td>\n",
       "      <td>44.933333</td>\n",
       "      <td>2018-08-01 09:01:10.445699</td>\n",
       "      <td>receiving</td>\n",
       "      <td>2</td>\n",
       "    </tr>\n",
       "    <tr>\n",
       "      <th>4</th>\n",
       "      <td>44.933333</td>\n",
       "      <td>&gt; 12 mois</td>\n",
       "      <td>595.0</td>\n",
       "      <td>44.933333</td>\n",
       "      <td>2018-08-01 09:01:10.445699</td>\n",
       "      <td>receiving</td>\n",
       "      <td>2</td>\n",
       "    </tr>\n",
       "  </tbody>\n",
       "</table>\n",
       "</div>"
      ],
      "text/plain": [
       "         age     bucket  product_id      age-2                 recieved_at  \\\n",
       "0  44.933333  > 12 mois       591.0  44.933333  2018-08-01 08:56:56.446872   \n",
       "1  44.933333  > 12 mois       592.0  44.933333  2018-08-01 08:58:13.364169   \n",
       "2  44.933333  > 12 mois       593.0  44.933333  2018-08-01 08:59:37.428562   \n",
       "3  44.933333  > 12 mois       594.0  44.933333  2018-08-01 09:01:10.445699   \n",
       "4  44.933333  > 12 mois       595.0  44.933333  2018-08-01 09:01:10.445699   \n",
       "\n",
       "  type_movement  tenant_id  \n",
       "0     receiving          2  \n",
       "1     receiving          2  \n",
       "2     receiving          2  \n",
       "3     receiving          2  \n",
       "4     receiving          2  "
      ]
     },
     "execution_count": 63,
     "metadata": {},
     "output_type": "execute_result"
    }
   ],
   "source": [
    "df_age.head()"
   ]
  },
  {
   "cell_type": "code",
   "execution_count": 60,
   "id": "8474bccb-7b90-4ffd-bc6b-5254dfac00ef",
   "metadata": {},
   "outputs": [
    {
     "data": {
      "text/plain": [
       "(190, 8)"
      ]
     },
     "execution_count": 60,
     "metadata": {},
     "output_type": "execute_result"
    }
   ],
   "source": [
    "data.shape"
   ]
  },
  {
   "cell_type": "code",
   "execution_count": 61,
   "id": "9e24cb56-f89e-4d27-a10a-8fa27dd57d52",
   "metadata": {},
   "outputs": [
    {
     "data": {
      "text/plain": [
       "array(['2022-03-31 00:00:00'], dtype=object)"
      ]
     },
     "execution_count": 61,
     "metadata": {},
     "output_type": "execute_result"
    }
   ],
   "source": [
    "data['date_at'].unique()"
   ]
  },
  {
   "cell_type": "code",
   "execution_count": 62,
   "id": "a4f284b4-6b7c-4d0e-9f23-64505e4c789b",
   "metadata": {},
   "outputs": [
    {
     "data": {
      "text/html": [
       "<div>\n",
       "<style scoped>\n",
       "    .dataframe tbody tr th:only-of-type {\n",
       "        vertical-align: middle;\n",
       "    }\n",
       "\n",
       "    .dataframe tbody tr th {\n",
       "        vertical-align: top;\n",
       "    }\n",
       "\n",
       "    .dataframe thead th {\n",
       "        text-align: right;\n",
       "    }\n",
       "</style>\n",
       "<table border=\"1\" class=\"dataframe\">\n",
       "  <thead>\n",
       "    <tr style=\"text-align: right;\">\n",
       "      <th></th>\n",
       "      <th>date_at</th>\n",
       "      <th>mois</th>\n",
       "      <th>product_type</th>\n",
       "      <th>category</th>\n",
       "      <th>country</th>\n",
       "      <th>valeur</th>\n",
       "      <th>loss</th>\n",
       "      <th>reimburse</th>\n",
       "    </tr>\n",
       "  </thead>\n",
       "  <tbody>\n",
       "    <tr>\n",
       "      <th>0</th>\n",
       "      <td>2022-04-06 00:00:00.000000</td>\n",
       "      <td>2022-04</td>\n",
       "      <td>Adapter Fan</td>\n",
       "      <td>accessories</td>\n",
       "      <td>Niger</td>\n",
       "      <td>40800.0</td>\n",
       "      <td>0.0</td>\n",
       "      <td>0.0</td>\n",
       "    </tr>\n",
       "    <tr>\n",
       "      <th>1</th>\n",
       "      <td>2022-04-06 00:00:00.000000</td>\n",
       "      <td>2022-04</td>\n",
       "      <td>Adapter Fan</td>\n",
       "      <td>accessories</td>\n",
       "      <td>Nigeria</td>\n",
       "      <td>6800.0</td>\n",
       "      <td>57800.0</td>\n",
       "      <td>3400.0</td>\n",
       "    </tr>\n",
       "    <tr>\n",
       "      <th>2</th>\n",
       "      <td>2022-04-06 00:00:00.000000</td>\n",
       "      <td>2022-04</td>\n",
       "      <td>Burn Stove</td>\n",
       "      <td>accessories</td>\n",
       "      <td>Nigeria</td>\n",
       "      <td>0.0</td>\n",
       "      <td>0.0</td>\n",
       "      <td>31500.0</td>\n",
       "    </tr>\n",
       "    <tr>\n",
       "      <th>3</th>\n",
       "      <td>2022-04-06 00:00:00.000000</td>\n",
       "      <td>2022-04</td>\n",
       "      <td>Burn Stove Xtra</td>\n",
       "      <td>accessories</td>\n",
       "      <td>Nigeria</td>\n",
       "      <td>0.0</td>\n",
       "      <td>0.0</td>\n",
       "      <td>0.0</td>\n",
       "    </tr>\n",
       "    <tr>\n",
       "      <th>4</th>\n",
       "      <td>2022-04-06 00:00:00.000000</td>\n",
       "      <td>2022-04</td>\n",
       "      <td>D Light Radio</td>\n",
       "      <td>accessories</td>\n",
       "      <td>Cameroun</td>\n",
       "      <td>1937166.0</td>\n",
       "      <td>0.0</td>\n",
       "      <td>0.0</td>\n",
       "    </tr>\n",
       "  </tbody>\n",
       "</table>\n",
       "</div>"
      ],
      "text/plain": [
       "                      date_at     mois     product_type     category  \\\n",
       "0  2022-04-06 00:00:00.000000  2022-04      Adapter Fan  accessories   \n",
       "1  2022-04-06 00:00:00.000000  2022-04      Adapter Fan  accessories   \n",
       "2  2022-04-06 00:00:00.000000  2022-04       Burn Stove  accessories   \n",
       "3  2022-04-06 00:00:00.000000  2022-04  Burn Stove Xtra  accessories   \n",
       "4  2022-04-06 00:00:00.000000  2022-04    D Light Radio  accessories   \n",
       "\n",
       "    country     valeur     loss  reimburse  \n",
       "0     Niger    40800.0      0.0        0.0  \n",
       "1   Nigeria     6800.0  57800.0     3400.0  \n",
       "2   Nigeria        0.0      0.0    31500.0  \n",
       "3   Nigeria        0.0      0.0        0.0  \n",
       "4  Cameroun  1937166.0      0.0        0.0  "
      ]
     },
     "execution_count": 62,
     "metadata": {},
     "output_type": "execute_result"
    }
   ],
   "source": [
    "df_old.head()"
   ]
  },
  {
   "cell_type": "code",
   "execution_count": 8,
   "id": "211029d0-2df9-48d3-8885-4ac4ffbbcf00",
   "metadata": {},
   "outputs": [],
   "source": [
    "from datetime import date"
   ]
  },
  {
   "cell_type": "code",
   "execution_count": 9,
   "id": "2b95ad88-b52b-4f35-9ead-22b4785cdef8",
   "metadata": {},
   "outputs": [
    {
     "name": "stdout",
     "output_type": "stream",
     "text": [
      "not first day of the month\n"
     ]
    }
   ],
   "source": [
    "if date.today().day != 1:\n",
    "    print('not first day of the month')"
   ]
  },
  {
   "cell_type": "code",
   "execution_count": 44,
   "id": "f4993bd8-fdc8-4e66-b777-0916b8aa5992",
   "metadata": {},
   "outputs": [],
   "source": [
    "table_value = data.groupby('mois').sum()\n",
    "table_value['% Stock losses'] = np.round(table_value['loss']/table_value['valeur'] *100,2)"
   ]
  },
  {
   "cell_type": "code",
   "execution_count": 45,
   "id": "21b937dc-1479-424c-a13c-a79cf5e348dd",
   "metadata": {},
   "outputs": [
    {
     "data": {
      "text/plain": [
       "Index(['index', '2022-03'], dtype='object', name='mois')"
      ]
     },
     "execution_count": 45,
     "metadata": {},
     "output_type": "execute_result"
    }
   ],
   "source": [
    "# data.groupby('mois').sum().transpose()\n",
    "table_value = table_value.transpose().reset_index()\n",
    "table_value.columns"
   ]
  },
  {
   "cell_type": "code",
   "execution_count": 46,
   "id": "d75ad195-4350-42bb-acbf-7d5c1a93f8e4",
   "metadata": {},
   "outputs": [],
   "source": [
    "table_value.rename(columns= {'index':'KPI'},inplace=True)"
   ]
  },
  {
   "cell_type": "code",
   "execution_count": 47,
   "id": "b3a36f63-b6e5-4921-866d-4112960a6d6d",
   "metadata": {},
   "outputs": [
    {
     "data": {
      "text/html": [
       "<div>\n",
       "<style scoped>\n",
       "    .dataframe tbody tr th:only-of-type {\n",
       "        vertical-align: middle;\n",
       "    }\n",
       "\n",
       "    .dataframe tbody tr th {\n",
       "        vertical-align: top;\n",
       "    }\n",
       "\n",
       "    .dataframe thead th {\n",
       "        text-align: right;\n",
       "    }\n",
       "</style>\n",
       "<table border=\"1\" class=\"dataframe\">\n",
       "  <thead>\n",
       "    <tr style=\"text-align: right;\">\n",
       "      <th>mois</th>\n",
       "      <th>KPI</th>\n",
       "      <th>2022-03</th>\n",
       "    </tr>\n",
       "  </thead>\n",
       "  <tbody>\n",
       "    <tr>\n",
       "      <th>0</th>\n",
       "      <td>valeur</td>\n",
       "      <td>4.456718e+08</td>\n",
       "    </tr>\n",
       "    <tr>\n",
       "      <th>1</th>\n",
       "      <td>loss</td>\n",
       "      <td>1.440206e+07</td>\n",
       "    </tr>\n",
       "    <tr>\n",
       "      <th>2</th>\n",
       "      <td>reimburse</td>\n",
       "      <td>4.774896e+06</td>\n",
       "    </tr>\n",
       "    <tr>\n",
       "      <th>3</th>\n",
       "      <td>% Stock losses</td>\n",
       "      <td>3.230000e+00</td>\n",
       "    </tr>\n",
       "  </tbody>\n",
       "</table>\n",
       "</div>"
      ],
      "text/plain": [
       "mois             KPI       2022-03\n",
       "0             valeur  4.456718e+08\n",
       "1               loss  1.440206e+07\n",
       "2          reimburse  4.774896e+06\n",
       "3     % Stock losses  3.230000e+00"
      ]
     },
     "execution_count": 47,
     "metadata": {},
     "output_type": "execute_result"
    }
   ],
   "source": [
    "table_value"
   ]
  },
  {
   "cell_type": "code",
   "execution_count": 52,
   "id": "c485a9c9-2835-4a82-be1a-b77716f4a66a",
   "metadata": {},
   "outputs": [
    {
     "data": {
      "text/plain": [
       "[{'KPI': 'valeur', '2022-03': 445671827.92422},\n",
       " {'KPI': 'loss', '2022-03': 14402060.34626},\n",
       " {'KPI': 'reimburse', '2022-03': 4774896.25626},\n",
       " {'KPI': '% Stock losses', '2022-03': 3.23}]"
      ]
     },
     "execution_count": 52,
     "metadata": {},
     "output_type": "execute_result"
    }
   ],
   "source": [
    "table_value.to_dict('records')"
   ]
  },
  {
   "cell_type": "code",
   "execution_count": 27,
   "id": "4a3530c3-3a07-445e-a54e-fea6336560ba",
   "metadata": {},
   "outputs": [
    {
     "name": "stdout",
     "output_type": "stream",
     "text": [
      "[{'KPI': 'valeur', '2022-03': 445671827.92422}, {'KPI': 'loss', '2022-03': 14402060.34626}, {'KPI': 'reimburse', '2022-03': 4774896.25626}]\n"
     ]
    }
   ],
   "source": [
    "print(table_value.to_dict('records'))"
   ]
  },
  {
   "cell_type": "code",
   "execution_count": 51,
   "id": "5fcf1357-fcd6-4825-9aba-9481cc1fbc95",
   "metadata": {},
   "outputs": [
    {
     "data": {
      "text/html": [
       "<div>\n",
       "<style scoped>\n",
       "    .dataframe tbody tr th:only-of-type {\n",
       "        vertical-align: middle;\n",
       "    }\n",
       "\n",
       "    .dataframe tbody tr th {\n",
       "        vertical-align: top;\n",
       "    }\n",
       "\n",
       "    .dataframe thead th {\n",
       "        text-align: right;\n",
       "    }\n",
       "</style>\n",
       "<table border=\"1\" class=\"dataframe\">\n",
       "  <thead>\n",
       "    <tr style=\"text-align: right;\">\n",
       "      <th>mois</th>\n",
       "      <th>index</th>\n",
       "      <th>2022-03</th>\n",
       "    </tr>\n",
       "  </thead>\n",
       "  <tbody>\n",
       "    <tr>\n",
       "      <th>0</th>\n",
       "      <td>valeur</td>\n",
       "      <td>4.456718e+08</td>\n",
       "    </tr>\n",
       "  </tbody>\n",
       "</table>\n",
       "</div>"
      ],
      "text/plain": [
       "mois   index       2022-03\n",
       "0     valeur  4.456718e+08"
      ]
     },
     "execution_count": 51,
     "metadata": {},
     "output_type": "execute_result"
    }
   ],
   "source": [
    "table_loss = pd.pivot_table(data, values=['valeur'],columns=['mois'], aggfunc=np.sum, fill_value=0).reset_index()\n",
    "table_loss"
   ]
  },
  {
   "cell_type": "code",
   "execution_count": null,
   "id": "05e00978-e775-4f3d-8cd7-fbec0687228e",
   "metadata": {},
   "outputs": [],
   "source": []
  },
  {
   "cell_type": "code",
   "execution_count": null,
   "id": "c1cef8ba-ac10-4f9d-ac20-c545827d6327",
   "metadata": {},
   "outputs": [],
   "source": []
  },
  {
   "cell_type": "code",
   "execution_count": 11,
   "id": "2fbdefe2-3a00-491e-bfcf-c6c8502eaf8e",
   "metadata": {},
   "outputs": [],
   "source": [
    "table_value = pd.pivot_table(data, values='valeur', index=['category'],\n",
    "                    columns=['mois'], aggfunc=np.sum, fill_value=0).reset_index()"
   ]
  },
  {
   "cell_type": "code",
   "execution_count": 71,
   "id": "316be5b8-1789-4da3-b5bb-5ac492d4a755",
   "metadata": {},
   "outputs": [
    {
     "data": {
      "text/html": [
       "<div>\n",
       "<style scoped>\n",
       "    .dataframe tbody tr th:only-of-type {\n",
       "        vertical-align: middle;\n",
       "    }\n",
       "\n",
       "    .dataframe tbody tr th {\n",
       "        vertical-align: top;\n",
       "    }\n",
       "\n",
       "    .dataframe thead th {\n",
       "        text-align: right;\n",
       "    }\n",
       "</style>\n",
       "<table border=\"1\" class=\"dataframe\">\n",
       "  <thead>\n",
       "    <tr style=\"text-align: right;\">\n",
       "      <th>mois</th>\n",
       "      <th>category</th>\n",
       "      <th>2022-03</th>\n",
       "      <th>2022-04</th>\n",
       "    </tr>\n",
       "  </thead>\n",
       "  <tbody>\n",
       "    <tr>\n",
       "      <th>0</th>\n",
       "      <td>SHS+TV</td>\n",
       "      <td>1.077927e+08</td>\n",
       "      <td>1.057089e+08</td>\n",
       "    </tr>\n",
       "    <tr>\n",
       "      <th>1</th>\n",
       "      <td>TV22</td>\n",
       "      <td>1.554650e+05</td>\n",
       "      <td>1.554650e+05</td>\n",
       "    </tr>\n",
       "    <tr>\n",
       "      <th>2</th>\n",
       "      <td>TV43</td>\n",
       "      <td>5.360260e+07</td>\n",
       "      <td>5.305680e+07</td>\n",
       "    </tr>\n",
       "    <tr>\n",
       "      <th>3</th>\n",
       "      <td>accessories</td>\n",
       "      <td>2.408569e+06</td>\n",
       "      <td>2.408569e+06</td>\n",
       "    </tr>\n",
       "    <tr>\n",
       "      <th>4</th>\n",
       "      <td>big SHS</td>\n",
       "      <td>6.543630e+06</td>\n",
       "      <td>6.543630e+06</td>\n",
       "    </tr>\n",
       "    <tr>\n",
       "      <th>5</th>\n",
       "      <td>pico</td>\n",
       "      <td>2.782219e+08</td>\n",
       "      <td>2.777984e+08</td>\n",
       "    </tr>\n",
       "  </tbody>\n",
       "</table>\n",
       "</div>"
      ],
      "text/plain": [
       "mois     category       2022-03       2022-04\n",
       "0          SHS+TV  1.077927e+08  1.057089e+08\n",
       "1            TV22  1.554650e+05  1.554650e+05\n",
       "2            TV43  5.360260e+07  5.305680e+07\n",
       "3     accessories  2.408569e+06  2.408569e+06\n",
       "4         big SHS  6.543630e+06  6.543630e+06\n",
       "5            pico  2.782219e+08  2.777984e+08"
      ]
     },
     "execution_count": 71,
     "metadata": {},
     "output_type": "execute_result"
    }
   ],
   "source": [
    "table_value"
   ]
  },
  {
   "cell_type": "code",
   "execution_count": 72,
   "id": "488d4dcd-18ad-4de5-b110-a4461dbefae8",
   "metadata": {},
   "outputs": [
    {
     "data": {
      "text/plain": [
       "mois\n",
       "category     object\n",
       "2022-03     float64\n",
       "2022-04     float64\n",
       "dtype: object"
      ]
     },
     "execution_count": 72,
     "metadata": {},
     "output_type": "execute_result"
    }
   ],
   "source": [
    "table_value.dtypes"
   ]
  },
  {
   "cell_type": "code",
   "execution_count": 73,
   "id": "0828ba11-4dab-4f43-b277-99d790325579",
   "metadata": {},
   "outputs": [],
   "source": [
    "table_loss = pd.pivot_table(data, values='loss', index=['category'],columns=['mois'], aggfunc=np.sum, fill_value=0).reset_index()\n",
    "table_reimburse = pd.pivot_table(data, values='reimburse', index=['category'],columns=['mois'], aggfunc=np.sum, fill_value=0).reset_index()"
   ]
  },
  {
   "cell_type": "code",
   "execution_count": 74,
   "id": "005db6cf-455d-4f9c-bb2d-97bf90e091ee",
   "metadata": {},
   "outputs": [
    {
     "data": {
      "text/html": [
       "<div>\n",
       "<style scoped>\n",
       "    .dataframe tbody tr th:only-of-type {\n",
       "        vertical-align: middle;\n",
       "    }\n",
       "\n",
       "    .dataframe tbody tr th {\n",
       "        vertical-align: top;\n",
       "    }\n",
       "\n",
       "    .dataframe thead th {\n",
       "        text-align: right;\n",
       "    }\n",
       "</style>\n",
       "<table border=\"1\" class=\"dataframe\">\n",
       "  <thead>\n",
       "    <tr style=\"text-align: right;\">\n",
       "      <th>mois</th>\n",
       "      <th>category</th>\n",
       "      <th>2022-03</th>\n",
       "      <th>2022-04</th>\n",
       "    </tr>\n",
       "  </thead>\n",
       "  <tbody>\n",
       "    <tr>\n",
       "      <th>0</th>\n",
       "      <td>SHS+TV</td>\n",
       "      <td>8.124600e+05</td>\n",
       "      <td>8.124600e+05</td>\n",
       "    </tr>\n",
       "    <tr>\n",
       "      <th>1</th>\n",
       "      <td>TV22</td>\n",
       "      <td>0.000000e+00</td>\n",
       "      <td>0.000000e+00</td>\n",
       "    </tr>\n",
       "    <tr>\n",
       "      <th>2</th>\n",
       "      <td>TV43</td>\n",
       "      <td>0.000000e+00</td>\n",
       "      <td>0.000000e+00</td>\n",
       "    </tr>\n",
       "    <tr>\n",
       "      <th>3</th>\n",
       "      <td>accessories</td>\n",
       "      <td>1.290180e+05</td>\n",
       "      <td>1.290180e+05</td>\n",
       "    </tr>\n",
       "    <tr>\n",
       "      <th>4</th>\n",
       "      <td>big SHS</td>\n",
       "      <td>2.529315e+05</td>\n",
       "      <td>2.529315e+05</td>\n",
       "    </tr>\n",
       "    <tr>\n",
       "      <th>5</th>\n",
       "      <td>pico</td>\n",
       "      <td>1.320765e+07</td>\n",
       "      <td>1.320765e+07</td>\n",
       "    </tr>\n",
       "  </tbody>\n",
       "</table>\n",
       "</div>"
      ],
      "text/plain": [
       "mois     category       2022-03       2022-04\n",
       "0          SHS+TV  8.124600e+05  8.124600e+05\n",
       "1            TV22  0.000000e+00  0.000000e+00\n",
       "2            TV43  0.000000e+00  0.000000e+00\n",
       "3     accessories  1.290180e+05  1.290180e+05\n",
       "4         big SHS  2.529315e+05  2.529315e+05\n",
       "5            pico  1.320765e+07  1.320765e+07"
      ]
     },
     "execution_count": 74,
     "metadata": {},
     "output_type": "execute_result"
    }
   ],
   "source": [
    "table_loss"
   ]
  },
  {
   "cell_type": "code",
   "execution_count": 75,
   "id": "2795439c-dc58-4803-b38e-eba4c5bccd43",
   "metadata": {},
   "outputs": [
    {
     "data": {
      "text/html": [
       "<div>\n",
       "<style scoped>\n",
       "    .dataframe tbody tr th:only-of-type {\n",
       "        vertical-align: middle;\n",
       "    }\n",
       "\n",
       "    .dataframe tbody tr th {\n",
       "        vertical-align: top;\n",
       "    }\n",
       "\n",
       "    .dataframe thead th {\n",
       "        text-align: right;\n",
       "    }\n",
       "</style>\n",
       "<table border=\"1\" class=\"dataframe\">\n",
       "  <thead>\n",
       "    <tr style=\"text-align: right;\">\n",
       "      <th>mois</th>\n",
       "      <th>category</th>\n",
       "      <th>2022-03</th>\n",
       "      <th>2022-04</th>\n",
       "    </tr>\n",
       "  </thead>\n",
       "  <tbody>\n",
       "    <tr>\n",
       "      <th>0</th>\n",
       "      <td>SHS+TV</td>\n",
       "      <td>2.110000e+05</td>\n",
       "      <td>2.110000e+05</td>\n",
       "    </tr>\n",
       "    <tr>\n",
       "      <th>1</th>\n",
       "      <td>TV22</td>\n",
       "      <td>0.000000e+00</td>\n",
       "      <td>0.000000e+00</td>\n",
       "    </tr>\n",
       "    <tr>\n",
       "      <th>2</th>\n",
       "      <td>TV43</td>\n",
       "      <td>0.000000e+00</td>\n",
       "      <td>0.000000e+00</td>\n",
       "    </tr>\n",
       "    <tr>\n",
       "      <th>3</th>\n",
       "      <td>accessories</td>\n",
       "      <td>3.698900e+05</td>\n",
       "      <td>3.698900e+05</td>\n",
       "    </tr>\n",
       "    <tr>\n",
       "      <th>4</th>\n",
       "      <td>big SHS</td>\n",
       "      <td>1.084000e+06</td>\n",
       "      <td>1.084000e+06</td>\n",
       "    </tr>\n",
       "    <tr>\n",
       "      <th>5</th>\n",
       "      <td>pico</td>\n",
       "      <td>3.110006e+06</td>\n",
       "      <td>3.110006e+06</td>\n",
       "    </tr>\n",
       "  </tbody>\n",
       "</table>\n",
       "</div>"
      ],
      "text/plain": [
       "mois     category       2022-03       2022-04\n",
       "0          SHS+TV  2.110000e+05  2.110000e+05\n",
       "1            TV22  0.000000e+00  0.000000e+00\n",
       "2            TV43  0.000000e+00  0.000000e+00\n",
       "3     accessories  3.698900e+05  3.698900e+05\n",
       "4         big SHS  1.084000e+06  1.084000e+06\n",
       "5            pico  3.110006e+06  3.110006e+06"
      ]
     },
     "execution_count": 75,
     "metadata": {},
     "output_type": "execute_result"
    }
   ],
   "source": [
    "table_reimburse"
   ]
  },
  {
   "cell_type": "code",
   "execution_count": 64,
   "id": "a423fd03-1312-4726-8b8e-f8ef5f8ba3fe",
   "metadata": {},
   "outputs": [],
   "source": [
    "data = pd.read_csv('Data/final_data.csv')\n",
    "data_age = pd.read_csv('Data/age_data.csv')\n",
    "system_value = pd.pivot_table(data_age, values='valeur',columns=['mois'],index=['category'],aggfunc=np.sum, fill_value=0).reset_index()\n",
    "age_value = pd.pivot_table(data_age, values='valeur',columns=['mois'],index=['bucket'],aggfunc=np.sum, fill_value=0).reset_index()\n",
    "table_value = data.groupby(['mois']).sum()\n",
    "table_value['% Stock losses'] = np.round(table_value['loss']/table_value['valeur'] *100,2)\n",
    "table_value = table_value.transpose().reset_index()\n",
    "table_value.drop([0],inplace=True)"
   ]
  },
  {
   "cell_type": "code",
   "execution_count": 65,
   "id": "dfebaf7e-5a1a-4e2e-a425-482245610ea2",
   "metadata": {},
   "outputs": [
    {
     "data": {
      "text/html": [
       "<div>\n",
       "<style scoped>\n",
       "    .dataframe tbody tr th:only-of-type {\n",
       "        vertical-align: middle;\n",
       "    }\n",
       "\n",
       "    .dataframe tbody tr th {\n",
       "        vertical-align: top;\n",
       "    }\n",
       "\n",
       "    .dataframe thead th {\n",
       "        text-align: right;\n",
       "    }\n",
       "</style>\n",
       "<table border=\"1\" class=\"dataframe\">\n",
       "  <thead>\n",
       "    <tr style=\"text-align: right;\">\n",
       "      <th></th>\n",
       "      <th>Unnamed: 0</th>\n",
       "      <th>date_at</th>\n",
       "      <th>mois</th>\n",
       "      <th>product_type</th>\n",
       "      <th>category</th>\n",
       "      <th>country</th>\n",
       "      <th>valeur</th>\n",
       "      <th>loss</th>\n",
       "      <th>reimburse</th>\n",
       "    </tr>\n",
       "  </thead>\n",
       "  <tbody>\n",
       "    <tr>\n",
       "      <th>0</th>\n",
       "      <td>0</td>\n",
       "      <td>2022-03-31 00:00:00</td>\n",
       "      <td>2022-03</td>\n",
       "      <td>Adapter Fan</td>\n",
       "      <td>accessories</td>\n",
       "      <td>Niger</td>\n",
       "      <td>40800.0</td>\n",
       "      <td>0.0</td>\n",
       "      <td>0.0</td>\n",
       "    </tr>\n",
       "    <tr>\n",
       "      <th>1</th>\n",
       "      <td>1</td>\n",
       "      <td>2022-03-31 00:00:00</td>\n",
       "      <td>2022-03</td>\n",
       "      <td>Adapter Fan</td>\n",
       "      <td>accessories</td>\n",
       "      <td>Nigeria</td>\n",
       "      <td>6800.0</td>\n",
       "      <td>57800.0</td>\n",
       "      <td>3400.0</td>\n",
       "    </tr>\n",
       "    <tr>\n",
       "      <th>2</th>\n",
       "      <td>2</td>\n",
       "      <td>2022-03-31 00:00:00</td>\n",
       "      <td>2022-03</td>\n",
       "      <td>Burn Stove</td>\n",
       "      <td>accessories</td>\n",
       "      <td>Nigeria</td>\n",
       "      <td>0.0</td>\n",
       "      <td>0.0</td>\n",
       "      <td>31500.0</td>\n",
       "    </tr>\n",
       "    <tr>\n",
       "      <th>3</th>\n",
       "      <td>3</td>\n",
       "      <td>2022-03-31 00:00:00</td>\n",
       "      <td>2022-03</td>\n",
       "      <td>Burn Stove Xtra</td>\n",
       "      <td>accessories</td>\n",
       "      <td>Nigeria</td>\n",
       "      <td>0.0</td>\n",
       "      <td>0.0</td>\n",
       "      <td>0.0</td>\n",
       "    </tr>\n",
       "    <tr>\n",
       "      <th>4</th>\n",
       "      <td>4</td>\n",
       "      <td>2022-03-31 00:00:00</td>\n",
       "      <td>2022-03</td>\n",
       "      <td>D Light Radio</td>\n",
       "      <td>accessories</td>\n",
       "      <td>Cameroun</td>\n",
       "      <td>1937166.0</td>\n",
       "      <td>0.0</td>\n",
       "      <td>0.0</td>\n",
       "    </tr>\n",
       "  </tbody>\n",
       "</table>\n",
       "</div>"
      ],
      "text/plain": [
       "   Unnamed: 0              date_at     mois     product_type     category  \\\n",
       "0           0  2022-03-31 00:00:00  2022-03      Adapter Fan  accessories   \n",
       "1           1  2022-03-31 00:00:00  2022-03      Adapter Fan  accessories   \n",
       "2           2  2022-03-31 00:00:00  2022-03       Burn Stove  accessories   \n",
       "3           3  2022-03-31 00:00:00  2022-03  Burn Stove Xtra  accessories   \n",
       "4           4  2022-03-31 00:00:00  2022-03    D Light Radio  accessories   \n",
       "\n",
       "    country     valeur     loss  reimburse  \n",
       "0     Niger    40800.0      0.0        0.0  \n",
       "1   Nigeria     6800.0  57800.0     3400.0  \n",
       "2   Nigeria        0.0      0.0    31500.0  \n",
       "3   Nigeria        0.0      0.0        0.0  \n",
       "4  Cameroun  1937166.0      0.0        0.0  "
      ]
     },
     "execution_count": 65,
     "metadata": {},
     "output_type": "execute_result"
    }
   ],
   "source": [
    "data.head()"
   ]
  },
  {
   "cell_type": "code",
   "execution_count": 66,
   "id": "0c223347-7fac-41b6-8c4d-a25e5a2bee95",
   "metadata": {},
   "outputs": [
    {
     "data": {
      "text/html": [
       "<div>\n",
       "<style scoped>\n",
       "    .dataframe tbody tr th:only-of-type {\n",
       "        vertical-align: middle;\n",
       "    }\n",
       "\n",
       "    .dataframe tbody tr th {\n",
       "        vertical-align: top;\n",
       "    }\n",
       "\n",
       "    .dataframe thead th {\n",
       "        text-align: right;\n",
       "    }\n",
       "</style>\n",
       "<table border=\"1\" class=\"dataframe\">\n",
       "  <thead>\n",
       "    <tr style=\"text-align: right;\">\n",
       "      <th></th>\n",
       "      <th>date_at</th>\n",
       "      <th>mois</th>\n",
       "      <th>bucket</th>\n",
       "      <th>product_type</th>\n",
       "      <th>category</th>\n",
       "      <th>country</th>\n",
       "      <th>valeur</th>\n",
       "    </tr>\n",
       "  </thead>\n",
       "  <tbody>\n",
       "    <tr>\n",
       "      <th>0</th>\n",
       "      <td>2022-03-31 00:00:00</td>\n",
       "      <td>2022-03</td>\n",
       "      <td>3 a 6 mois</td>\n",
       "      <td>Burn Stove Xtra</td>\n",
       "      <td>accessories</td>\n",
       "      <td>Nigeria</td>\n",
       "      <td>0.0</td>\n",
       "    </tr>\n",
       "    <tr>\n",
       "      <th>1</th>\n",
       "      <td>2022-03-31 00:00:00</td>\n",
       "      <td>2022-03</td>\n",
       "      <td>3 a 6 mois</td>\n",
       "      <td>D Light Radio</td>\n",
       "      <td>accessories</td>\n",
       "      <td>Cameroun</td>\n",
       "      <td>1917399.0</td>\n",
       "    </tr>\n",
       "    <tr>\n",
       "      <th>2</th>\n",
       "      <td>2022-03-31 00:00:00</td>\n",
       "      <td>2022-03</td>\n",
       "      <td>3 a 6 mois</td>\n",
       "      <td>Oolu SolarTV32</td>\n",
       "      <td>SHS+TV</td>\n",
       "      <td>Burkina</td>\n",
       "      <td>5236758.0</td>\n",
       "    </tr>\n",
       "    <tr>\n",
       "      <th>3</th>\n",
       "      <td>2022-03-31 00:00:00</td>\n",
       "      <td>2022-03</td>\n",
       "      <td>3 a 6 mois</td>\n",
       "      <td>Oolu SolarTV32</td>\n",
       "      <td>SHS+TV</td>\n",
       "      <td>Mali</td>\n",
       "      <td>3998000.0</td>\n",
       "    </tr>\n",
       "    <tr>\n",
       "      <th>4</th>\n",
       "      <td>2022-03-31 00:00:00</td>\n",
       "      <td>2022-03</td>\n",
       "      <td>3 a 6 mois</td>\n",
       "      <td>Oolu SolarTV32</td>\n",
       "      <td>SHS+TV</td>\n",
       "      <td>Niger</td>\n",
       "      <td>775816.0</td>\n",
       "    </tr>\n",
       "  </tbody>\n",
       "</table>\n",
       "</div>"
      ],
      "text/plain": [
       "               date_at     mois      bucket     product_type     category  \\\n",
       "0  2022-03-31 00:00:00  2022-03  3 a 6 mois  Burn Stove Xtra  accessories   \n",
       "1  2022-03-31 00:00:00  2022-03  3 a 6 mois    D Light Radio  accessories   \n",
       "2  2022-03-31 00:00:00  2022-03  3 a 6 mois   Oolu SolarTV32       SHS+TV   \n",
       "3  2022-03-31 00:00:00  2022-03  3 a 6 mois   Oolu SolarTV32       SHS+TV   \n",
       "4  2022-03-31 00:00:00  2022-03  3 a 6 mois   Oolu SolarTV32       SHS+TV   \n",
       "\n",
       "    country     valeur  \n",
       "0   Nigeria        0.0  \n",
       "1  Cameroun  1917399.0  \n",
       "2   Burkina  5236758.0  \n",
       "3      Mali  3998000.0  \n",
       "4     Niger   775816.0  "
      ]
     },
     "execution_count": 66,
     "metadata": {},
     "output_type": "execute_result"
    }
   ],
   "source": [
    "data_age.head()"
   ]
  },
  {
   "cell_type": "code",
   "execution_count": 67,
   "id": "dddd121c-3441-4b42-b5b5-06f6b5d88333",
   "metadata": {},
   "outputs": [
    {
     "data": {
      "text/html": [
       "<div>\n",
       "<style scoped>\n",
       "    .dataframe tbody tr th:only-of-type {\n",
       "        vertical-align: middle;\n",
       "    }\n",
       "\n",
       "    .dataframe tbody tr th {\n",
       "        vertical-align: top;\n",
       "    }\n",
       "\n",
       "    .dataframe thead th {\n",
       "        text-align: right;\n",
       "    }\n",
       "</style>\n",
       "<table border=\"1\" class=\"dataframe\">\n",
       "  <thead>\n",
       "    <tr style=\"text-align: right;\">\n",
       "      <th>mois</th>\n",
       "      <th>index</th>\n",
       "      <th>2022-03</th>\n",
       "    </tr>\n",
       "  </thead>\n",
       "  <tbody>\n",
       "    <tr>\n",
       "      <th>1</th>\n",
       "      <td>valeur</td>\n",
       "      <td>4.456718e+08</td>\n",
       "    </tr>\n",
       "    <tr>\n",
       "      <th>2</th>\n",
       "      <td>loss</td>\n",
       "      <td>1.440206e+07</td>\n",
       "    </tr>\n",
       "    <tr>\n",
       "      <th>3</th>\n",
       "      <td>reimburse</td>\n",
       "      <td>4.774896e+06</td>\n",
       "    </tr>\n",
       "    <tr>\n",
       "      <th>4</th>\n",
       "      <td>% Stock losses</td>\n",
       "      <td>3.230000e+00</td>\n",
       "    </tr>\n",
       "  </tbody>\n",
       "</table>\n",
       "</div>"
      ],
      "text/plain": [
       "mois           index       2022-03\n",
       "1             valeur  4.456718e+08\n",
       "2               loss  1.440206e+07\n",
       "3          reimburse  4.774896e+06\n",
       "4     % Stock losses  3.230000e+00"
      ]
     },
     "execution_count": 67,
     "metadata": {},
     "output_type": "execute_result"
    }
   ],
   "source": [
    "table_value"
   ]
  },
  {
   "cell_type": "code",
   "execution_count": 77,
   "id": "a7291c3f-0e42-4be7-80c8-ffd9b5b38454",
   "metadata": {},
   "outputs": [],
   "source": [
    "kpi_chart = px.line(data, x='mois', y=['valeur','loss','reimburse'], title='Valeur, perte et remboursement par mois')"
   ]
  },
  {
   "cell_type": "code",
   "execution_count": 78,
   "id": "c57969ac-a2a9-4b64-be5f-48b3b7faa081",
   "metadata": {},
   "outputs": [],
   "source": [
    "age_chart = px.line(data_age, x='mois', y='valeur',color='bucket', title='Stock value par tranche d\\'age par mois')"
   ]
  },
  {
   "cell_type": "code",
   "execution_count": null,
   "id": "c9a3370c-abea-4704-94e0-f7bf8931be1f",
   "metadata": {},
   "outputs": [],
   "source": []
  }
 ],
 "metadata": {
  "kernelspec": {
   "display_name": "Python 3 (ipykernel)",
   "language": "python",
   "name": "python3"
  },
  "language_info": {
   "codemirror_mode": {
    "name": "ipython",
    "version": 3
   },
   "file_extension": ".py",
   "mimetype": "text/x-python",
   "name": "python",
   "nbconvert_exporter": "python",
   "pygments_lexer": "ipython3",
   "version": "3.8.10"
  }
 },
 "nbformat": 4,
 "nbformat_minor": 5
}
